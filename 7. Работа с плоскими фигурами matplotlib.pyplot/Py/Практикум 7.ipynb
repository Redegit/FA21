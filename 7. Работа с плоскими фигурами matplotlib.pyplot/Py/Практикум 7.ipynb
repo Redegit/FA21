{
 "cells": [
  {
   "cell_type": "code",
   "execution_count": 1,
   "metadata": {},
   "outputs": [],
   "source": [
    "import numpy as np\n",
    "from matplotlib.patches import Circle, Wedge, Polygon\n",
    "from matplotlib.collections import PatchCollection\n",
    "import matplotlib.pyplot as plt"
   ]
  },
  {
   "cell_type": "code",
   "execution_count": 2,
   "metadata": {},
   "outputs": [
    {
     "data": {
      "text/plain": "<Figure size 432x288 with 2 Axes>",
      "image/png": "[encoded data removed]"
     },
     "metadata": {
      "needs_background": "light"
     },
     "output_type": "display_data"
    }
   ],
   "source": [
    "np.random.seed(19680801)\n",
    "\n",
    "\n",
    "fig, ax = plt.subplots()\n",
    "\n",
    "resolution = 50  # the number of vertices\n",
    "N = 3\n",
    "x = np.random.rand(N)\n",
    "y = np.random.rand(N)\n",
    "radii = 0.1*np.random.rand(N)\n",
    "patches = []\n",
    "for x1, y1, r in zip(x, y, radii):\n",
    "    circle = Circle((x1, y1), r)\n",
    "    patches.append(circle)\n",
    "\n",
    "x = np.random.rand(N)\n",
    "y = np.random.rand(N)\n",
    "radii = 0.1*np.random.rand(N)\n",
    "theta1 = 360.0*np.random.rand(N)\n",
    "theta2 = 360.0*np.random.rand(N)\n",
    "for x1, y1, r, t1, t2 in zip(x, y, radii, theta1, theta2):\n",
    "    wedge = Wedge((x1, y1), r, t1, t2)\n",
    "    patches.append(wedge)\n",
    "\n",
    "# Some limiting conditions on Wedge\n",
    "patches += [\n",
    "    Wedge((.3, .7), .1, 0, 360),             # Full circle\n",
    "    Wedge((.7, .8), .2, 0, 360, width=0.05),  # Full ring\n",
    "    Wedge((.8, .3), .2, 0, 45),              # Full sector\n",
    "    Wedge((.8, .3), .2, 45, 90, width=0.10),  # Ring sector\n",
    "]\n",
    "\n",
    "for i in range(N):\n",
    "    polygon = Polygon(np.random.rand(N, 2), True)\n",
    "    patches.append(polygon)\n",
    "\n",
    "# for f in Figure.fig_list:\n",
    "#     polygon = Polygon(f.coordinates, True)\n",
    "#     patches.append(polygon)\n",
    "\n",
    "colors = 100 * np.random.rand(len(patches))\n",
    "p = PatchCollection(patches, alpha=0.4)\n",
    "p.set_array(colors)\n",
    "ax.add_collection(p)\n",
    "fig.colorbar(p, ax=ax)\n",
    "\n",
    "plt.show()"
   ]
  },
  {
   "cell_type": "code",
   "execution_count": 3,
   "metadata": {},
   "outputs": [
    {
     "ename": "NameError",
     "evalue": "name 'Figure' is not defined",
     "output_type": "error",
     "traceback": [
      "\u001B[1;31m---------------------------------------------------------------------------\u001B[0m",
      "\u001B[1;31mNameError\u001B[0m                                 Traceback (most recent call last)",
      "\u001B[1;32m<ipython-input-3-a7e9282292f3>\u001B[0m in \u001B[0;36m<module>\u001B[1;34m\u001B[0m\n\u001B[1;32m----> 1\u001B[1;33m \u001B[1;32mclass\u001B[0m \u001B[0mFigure\u001B[0m\u001B[1;33m:\u001B[0m\u001B[1;33m\u001B[0m\u001B[1;33m\u001B[0m\u001B[0m\n\u001B[0m\u001B[0;32m      2\u001B[0m     \u001B[0mfig_list\u001B[0m \u001B[1;33m=\u001B[0m \u001B[1;33m[\u001B[0m\u001B[1;33m]\u001B[0m\u001B[1;33m\u001B[0m\u001B[1;33m\u001B[0m\u001B[0m\n\u001B[0;32m      3\u001B[0m \u001B[1;33m\u001B[0m\u001B[0m\n\u001B[0;32m      4\u001B[0m     \u001B[1;32mdef\u001B[0m \u001B[0m__init__\u001B[0m\u001B[1;33m(\u001B[0m\u001B[0mself\u001B[0m\u001B[1;33m,\u001B[0m \u001B[0mcoordinates\u001B[0m\u001B[1;33m)\u001B[0m\u001B[1;33m:\u001B[0m\u001B[1;33m\u001B[0m\u001B[1;33m\u001B[0m\u001B[0m\n\u001B[0;32m      5\u001B[0m         \u001B[0mself\u001B[0m\u001B[1;33m.\u001B[0m\u001B[0mcoordinates\u001B[0m \u001B[1;33m=\u001B[0m \u001B[0mcoordinates\u001B[0m\u001B[1;33m\u001B[0m\u001B[1;33m\u001B[0m\u001B[0m\n",
      "\u001B[1;32m<ipython-input-3-a7e9282292f3>\u001B[0m in \u001B[0;36mFigure\u001B[1;34m()\u001B[0m\n\u001B[0;32m      7\u001B[0m \u001B[1;33m\u001B[0m\u001B[0m\n\u001B[0;32m      8\u001B[0m     \u001B[1;33m@\u001B[0m\u001B[0mstaticmethod\u001B[0m\u001B[1;33m\u001B[0m\u001B[1;33m\u001B[0m\u001B[0m\n\u001B[1;32m----> 9\u001B[1;33m     \u001B[1;32mdef\u001B[0m \u001B[0mdraw\u001B[0m\u001B[1;33m(\u001B[0m\u001B[0mlst\u001B[0m\u001B[1;33m=\u001B[0m\u001B[0mFigure\u001B[0m\u001B[1;33m.\u001B[0m\u001B[0mfig_list\u001B[0m\u001B[1;33m)\u001B[0m\u001B[1;33m:\u001B[0m\u001B[1;33m\u001B[0m\u001B[1;33m\u001B[0m\u001B[0m\n\u001B[0m\u001B[0;32m     10\u001B[0m         \u001B[0mprint\u001B[0m\u001B[1;33m(\u001B[0m\u001B[0mlst\u001B[0m\u001B[1;33m)\u001B[0m\u001B[1;33m\u001B[0m\u001B[1;33m\u001B[0m\u001B[0m\n\u001B[0;32m     11\u001B[0m         \u001B[0mfig\u001B[0m\u001B[1;33m,\u001B[0m \u001B[0max\u001B[0m \u001B[1;33m=\u001B[0m \u001B[0mplt\u001B[0m\u001B[1;33m.\u001B[0m\u001B[0msubplots\u001B[0m\u001B[1;33m(\u001B[0m\u001B[1;33m)\u001B[0m\u001B[1;33m\u001B[0m\u001B[1;33m\u001B[0m\u001B[0m\n",
      "\u001B[1;31mNameError\u001B[0m: name 'Figure' is not defined"
     ]
    }
   ],
   "source": [
    "class Figure:\n",
    "    fig_list = []\n",
    "\n",
    "    def __init__(self, coordinates):\n",
    "        self.coordinates = coordinates\n",
    "        Figure.fig_list.append(self)\n",
    "    \n",
    "    @staticmethod\n",
    "    def draw(lst=Figure.fig_list):\n",
    "        print(lst)\n",
    "        fig, ax = plt.subplots()\n",
    "        resolution = 10\n",
    "        \n",
    "        to_draw = []\n",
    "        \n",
    "        for f in lst:\n",
    "            polygon = Polygon(f.coordinates, True)\n",
    "            to_draw.append(polygon)\n",
    "            \n",
    "            \n",
    "        colors = 100 * np.random.rand(len(to_draw))\n",
    "        p = PatchCollection(to_draw, alpha=0.4)\n",
    "        p.set_array(colors)\n",
    "        ax.add_collection(p)\n",
    "        fig.colorbar(p, ax=ax)\n",
    "\n",
    "        plt.show()"
   ]
  },
  {
   "cell_type": "code",
   "execution_count": null,
   "metadata": {},
   "outputs": [],
   "source": [
    "f1 = Figure(((0,0), (0,1), (1,1), (1,0)))\n",
    "f2 = Figure(((10,0), (0,10), (5,1), (1,5)))\n",
    "\n",
    "Figure.draw()"
   ]
  },
  {
   "cell_type": "code",
   "execution_count": null,
   "metadata": {},
   "outputs": [],
   "source": []
  }
 ],
 "metadata": {
  "kernelspec": {
   "display_name": "Python 3",
   "language": "python",
   "name": "python3"
  },
  "language_info": {
   "codemirror_mode": {
    "name": "ipython",
    "version": 3
   },
   "file_extension": ".py",
   "mimetype": "text/x-python",
   "name": "python",
   "nbconvert_exporter": "python",
   "pygments_lexer": "ipython3",
   "version": "3.8.5"
  }
 },
 "nbformat": 4,
 "nbformat_minor": 4
}